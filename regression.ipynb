{
 "cells": [
  {
   "cell_type": "code",
   "execution_count": null,
   "metadata": {},
   "outputs": [],
   "source": [
    "filepath = '/databricks-datasets/samples/population-vs-price/data_geo.csv'\n",
    "data = spark.read.format('csv'\n",
    "    ).option('header', 'true'\n",
    "    ).option('inferSchema', 'true'\n",
    "    ).load(filepath)\n",
    "data.cache()"
   ]
  },
  {
   "cell_type": "code",
   "execution_count": null,
   "metadata": {},
   "outputs": [],
   "source": [
    "display(data)"
   ]
  },
  {
   "cell_type": "code",
   "execution_count": null,
   "metadata": {},
   "outputs": [],
   "source": [
    "data = data.dropna()\n",
    "exprs = [\n",
    "    col(column).alias(column.replace(' ', '_'))\n",
    "    for column in data.columns\n",
    "]\n",
    "\n",
    "from pyspark.ml.linalg import Vectors, VectorUDT\n",
    "spark.udf.register('oneElementVec',\n",
    "    lambda d: Vectors.dense([d]), \n",
    "    returnType = VectorUDT()\n",
    ")\n",
    "tdata = data.select(*exprs).selectExpr(\n",
    "    \"oneElementVec(2014_Population_estimate) as features\",\n",
    "    \"2015_median_sales_price as label\"\n",
    ")"
   ]
  },
  {
   "cell_type": "code",
   "execution_count": null,
   "metadata": {},
   "outputs": [],
   "source": [
    "display(tdata)"
   ]
  },
  {
   "cell_type": "code",
   "execution_count": null,
   "metadata": {},
   "outputs": [],
   "source": [
    "from pyspark.ml.regression import LinearRegression\n",
    "lr = LinearRegression()\n",
    "\n",
    "model = lr.fit(data, {lr.regParam:100.0})"
   ]
  },
  {
   "cell_type": "code",
   "execution_count": null,
   "metadata": {},
   "outputs": [],
   "source": [
    "predictions = model.transform(data)\n",
    "display(predictions)"
   ]
  },
  {
   "cell_type": "code",
   "execution_count": null,
   "metadata": {},
   "outputs": [],
   "source": [
    "from pyspark.ml.evaluation import RegressionEvaluator\n",
    "evaluator = RegressionEvaluator(metricName = 'rmse')\n",
    "rmse = evaluator.evaluate(predictions)\n",
    "print('rmse = ' + str(rmse))"
   ]
  },
  {
   "cell_type": "code",
   "execution_count": null,
   "metadata": {},
   "outputs": [],
   "source": [
    "import numpy as np\n",
    "from pandas import *\n",
    "from ggplot import *\n",
    "\n",
    "pop = data.map(lambda p: (p.features[0])).collect()\n",
    "price = data.map(lambda p: (p.label)).collect()\n",
    "pred = predictions.select(\"prediction\").map(lambda r: r[0]).collect()\n",
    "\n",
    "# Create a Pandas DataFrame\n",
    "pydf = DataFrame({'pop':pop,'price':price,'predA':pred})\n",
    "p = ggplot(pydf, aes('pop','price')) +\n",
    "  geom_point(color='blue') +\n",
    "  geom_line(pydf, aes('pop','pred'), color='red') +\n",
    "  scale_x_log10() + scale_y_log10()\n",
    "display(p)"
   ]
  }
 ],
 "metadata": {
  "language_info": {
   "name": "python"
  },
  "orig_nbformat": 4
 },
 "nbformat": 4,
 "nbformat_minor": 2
}
